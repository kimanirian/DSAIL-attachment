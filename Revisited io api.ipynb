{
 "cells": [
  {
   "cell_type": "code",
   "execution_count": 1,
   "id": "510da4aa",
   "metadata": {},
   "outputs": [],
   "source": [
    "import requests"
   ]
  },
  {
   "cell_type": "code",
   "execution_count": 2,
   "id": "43a86040",
   "metadata": {},
   "outputs": [],
   "source": [
    "url = \"https://api.tomorrow.io/v4/timelines\"\n",
    "querystring = {\n",
    "\"location\":\"Kenya\",\n",
    "\"fields\":[\"temperature\", \"cloudCover\",\"humidity\",\"pressureSurfaceLevel\",\"rainIntensity\"],\n",
    "\"units\":\"imperial\",\n",
    "\"timesteps\":\"1d\",\n",
    "\"apikey\":\"U188WPIa9pIzejPlPBU5tDd6kU8WzIrF\"}"
   ]
  },
  {
   "cell_type": "code",
   "execution_count": 3,
   "id": "b727586f",
   "metadata": {},
   "outputs": [
    {
     "name": "stdout",
     "output_type": "stream",
     "text": [
      "{\"data\":{\"timelines\":[{\"timestep\":\"1d\",\"endTime\":\"2023-11-19T03:00:00Z\",\"startTime\":\"2023-11-14T03:00:00Z\",\"intervals\":[{\"startTime\":\"2023-11-14T03:00:00Z\",\"values\":{\"cloudCover\":100,\"humidity\":100,\"pressureSurfaceLevel\":28.85,\"rainIntensity\":0.12,\"temperature\":85.08}},{\"startTime\":\"2023-11-15T03:00:00Z\",\"values\":{\"cloudCover\":100,\"humidity\":97.49,\"pressureSurfaceLevel\":28.84,\"rainIntensity\":0,\"temperature\":87.08}},{\"startTime\":\"2023-11-16T03:00:00Z\",\"values\":{\"cloudCover\":100,\"humidity\":94.29,\"pressureSurfaceLevel\":28.86,\"rainIntensity\":0.09,\"temperature\":87.45}},{\"startTime\":\"2023-11-17T03:00:00Z\",\"values\":{\"cloudCover\":100,\"humidity\":93.31,\"pressureSurfaceLevel\":28.85,\"rainIntensity\":0.12,\"temperature\":87.47}},{\"startTime\":\"2023-11-18T03:00:00Z\",\"values\":{\"cloudCover\":89.76,\"humidity\":78.48,\"pressureSurfaceLevel\":28.79,\"rainIntensity\":0.01,\"temperature\":89.89}},{\"startTime\":\"2023-11-19T03:00:00Z\",\"values\":{\"cloudCover\":40.5,\"humidity\":77.67,\"pressureSurfaceLevel\":28.79,\"rainIntensity\":0,\"temperature\":86.74}}]}]}}\n"
     ]
    }
   ],
   "source": [
    "response = requests.request(\"GET\", url, params=querystring)\n",
    "print(response.text)"
   ]
  },
  {
   "cell_type": "code",
   "execution_count": 4,
   "id": "1d2b5fa9",
   "metadata": {},
   "outputs": [
    {
     "name": "stdout",
     "output_type": "stream",
     "text": [
      "Weather Forecast\n",
      "================\n",
      "['2023-11-14', '2023-11-15', '2023-11-16', '2023-11-17', '2023-11-18', '2023-11-19']\n",
      "[100, 97.49, 94.29, 93.31, 78.48, 77.67]\n",
      "[85, 87, 87, 87, 90, 87]\n"
     ]
    }
   ],
   "source": [
    " print(\"Weather Forecast\")\n",
    "print(\"================\")\n",
    "tmp=[]\n",
    "hm=[]\n",
    "dt=[]\n",
    "RI=[]\n",
    "CV=[]\n",
    "ps=[]\n",
    "results = response.json()['data']['timelines'][0]['intervals']\n",
    "for daily_result in results:\n",
    "    date = daily_result['startTime'][0:10]\n",
    "    temp = round(daily_result['values']['temperature'])\n",
    "    hum=daily_result['values']['humidity']\n",
    "    cloud=daily_result['values']['cloudCover']\n",
    "    press=daily_result['values']['pressureSurfaceLevel']\n",
    "    rain=daily_result['values']['rainIntensity']\n",
    "    dt.append(date)\n",
    "    tmp.append(temp)\n",
    "    hm.append(hum)\n",
    "    RI.append(rain)\n",
    "    CV.append(cloud)\n",
    "    ps.append(press)\n",
    "    #print(\"On\",date,\"it will be\", temp, \"F\",\"and humidity is\",hum)\n",
    "print(dt)\n",
    "print(hm)\n",
    "print(tmp)"
   ]
  },
  {
   "cell_type": "code",
   "execution_count": 6,
   "id": "faaaed49",
   "metadata": {},
   "outputs": [
    {
     "data": {
      "text/html": [
       "<div>\n",
       "<style scoped>\n",
       "    .dataframe tbody tr th:only-of-type {\n",
       "        vertical-align: middle;\n",
       "    }\n",
       "\n",
       "    .dataframe tbody tr th {\n",
       "        vertical-align: top;\n",
       "    }\n",
       "\n",
       "    .dataframe thead th {\n",
       "        text-align: right;\n",
       "    }\n",
       "</style>\n",
       "<table border=\"1\" class=\"dataframe\">\n",
       "  <thead>\n",
       "    <tr style=\"text-align: right;\">\n",
       "      <th></th>\n",
       "      <th>Date</th>\n",
       "      <th>Humidity</th>\n",
       "      <th>Temperature</th>\n",
       "      <th>Rainfall Int</th>\n",
       "      <th>Cloudcover</th>\n",
       "      <th>Pressure</th>\n",
       "    </tr>\n",
       "  </thead>\n",
       "  <tbody>\n",
       "    <tr>\n",
       "      <th>0</th>\n",
       "      <td>2023-11-14</td>\n",
       "      <td>100.00</td>\n",
       "      <td>85</td>\n",
       "      <td>0.12</td>\n",
       "      <td>100.00</td>\n",
       "      <td>28.85</td>\n",
       "    </tr>\n",
       "    <tr>\n",
       "      <th>1</th>\n",
       "      <td>2023-11-15</td>\n",
       "      <td>97.49</td>\n",
       "      <td>87</td>\n",
       "      <td>0.00</td>\n",
       "      <td>100.00</td>\n",
       "      <td>28.84</td>\n",
       "    </tr>\n",
       "    <tr>\n",
       "      <th>2</th>\n",
       "      <td>2023-11-16</td>\n",
       "      <td>94.29</td>\n",
       "      <td>87</td>\n",
       "      <td>0.09</td>\n",
       "      <td>100.00</td>\n",
       "      <td>28.86</td>\n",
       "    </tr>\n",
       "    <tr>\n",
       "      <th>3</th>\n",
       "      <td>2023-11-17</td>\n",
       "      <td>93.31</td>\n",
       "      <td>87</td>\n",
       "      <td>0.12</td>\n",
       "      <td>100.00</td>\n",
       "      <td>28.85</td>\n",
       "    </tr>\n",
       "    <tr>\n",
       "      <th>4</th>\n",
       "      <td>2023-11-18</td>\n",
       "      <td>78.48</td>\n",
       "      <td>90</td>\n",
       "      <td>0.01</td>\n",
       "      <td>89.76</td>\n",
       "      <td>28.79</td>\n",
       "    </tr>\n",
       "    <tr>\n",
       "      <th>5</th>\n",
       "      <td>2023-11-19</td>\n",
       "      <td>77.67</td>\n",
       "      <td>87</td>\n",
       "      <td>0.00</td>\n",
       "      <td>40.50</td>\n",
       "      <td>28.79</td>\n",
       "    </tr>\n",
       "  </tbody>\n",
       "</table>\n",
       "</div>"
      ],
      "text/plain": [
       "         Date  Humidity  Temperature  Rainfall Int  Cloudcover  Pressure\n",
       "0  2023-11-14    100.00           85          0.12      100.00     28.85\n",
       "1  2023-11-15     97.49           87          0.00      100.00     28.84\n",
       "2  2023-11-16     94.29           87          0.09      100.00     28.86\n",
       "3  2023-11-17     93.31           87          0.12      100.00     28.85\n",
       "4  2023-11-18     78.48           90          0.01       89.76     28.79\n",
       "5  2023-11-19     77.67           87          0.00       40.50     28.79"
      ]
     },
     "execution_count": 6,
     "metadata": {},
     "output_type": "execute_result"
    }
   ],
   "source": [
    "import pandas as pd\n",
    "data=pd.DataFrame(list(zip(dt,hm,tmp,RI,CV,ps)),columns=['Date','Humidity','Temperature','Rainfall Int','Cloudcover','Pressure'])\n",
    "data"
   ]
  },
  {
   "cell_type": "code",
   "execution_count": null,
   "id": "6226e777",
   "metadata": {},
   "outputs": [],
   "source": []
  }
 ],
 "metadata": {
  "kernelspec": {
   "display_name": "Python 3 (ipykernel)",
   "language": "python",
   "name": "python3"
  },
  "language_info": {
   "codemirror_mode": {
    "name": "ipython",
    "version": 3
   },
   "file_extension": ".py",
   "mimetype": "text/x-python",
   "name": "python",
   "nbconvert_exporter": "python",
   "pygments_lexer": "ipython3",
   "version": "3.11.4"
  }
 },
 "nbformat": 4,
 "nbformat_minor": 5
}
